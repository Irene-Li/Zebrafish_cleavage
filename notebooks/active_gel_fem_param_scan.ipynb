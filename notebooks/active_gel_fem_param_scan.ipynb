{
 "cells": [
  {
   "cell_type": "code",
   "execution_count": 1,
   "metadata": {},
   "outputs": [],
   "source": [
    "import numpy as np\n",
    "import matplotlib.pyplot as plt\n",
    "from ngsolve import *\n",
    "from ngsolve.webgui import Draw"
   ]
  },
  {
   "cell_type": "code",
   "execution_count": 2,
   "metadata": {},
   "outputs": [],
   "source": [
    "import importlib\n",
    "import sys\n",
    "from pathlib import Path\n",
    "import os \n",
    "sys.path.append(str(Path(os.getcwd()).parent / \"src\"))\n",
    "\n",
    "import active_gel_fem\n",
    "importlib.reload(active_gel_fem)\n",
    "\n",
    "import utils \n",
    "importlib.reload(utils)\n",
    "\n",
    "from ngsolve.webgui import Draw"
   ]
  },
  {
   "cell_type": "code",
   "execution_count": 3,
   "metadata": {},
   "outputs": [],
   "source": [
    "def plot_frame(n_samples, rho, vx, vy, nx, ny, title, stride=3):\n",
    "    X = np.linspace(0, 1, n_samples)\n",
    "    Y = np.linspace(0, 1, n_samples)\n",
    "    X, Y = np.meshgrid(X, Y)\n",
    "\n",
    "    # Plot the contour for rho_vals\n",
    "    fig, axes = plt.subplots(1, 3, figsize=(15, 4))\n",
    "\n",
    "    im0 = axes[0].contourf(X, Y, rho, levels=100, cmap='Greys')\n",
    "    fig.colorbar(im0, ax=axes[0])\n",
    "\n",
    "    mag = np.sqrt(vx**2+vy**2)\n",
    "    im1 = axes[1].contourf(X, Y, mag, levels=100, cmap='Blues')\n",
    "    axes[1].set_title('v')\n",
    "    fig.colorbar(im1, ax=axes[1])\n",
    "    axes[1].quiver(X[::stride, ::stride], Y[::stride, ::stride], \n",
    "            (vx/mag)[::stride, ::stride], (vy/mag)[::stride, ::stride], \n",
    "            color='orange', \n",
    "            width=0.003,     # Increase width to make arrow shafts thicker\n",
    "            headwidth=4,     # Increase headwidth for wider arrowheads\n",
    "            headlength=5,    # Increase headlength for longer arrowheads\n",
    "            headaxislength=7 # Increase headaxislength for more pronounced heads\n",
    "    ) \n",
    "\n",
    "    mag = np.sqrt(nx**2+ny**2)\n",
    "    im2 = axes[2].contourf(X, Y, mag, levels=100, cmap='Blues')\n",
    "    axes[2].set_title('nematic order')\n",
    "    fig.colorbar(im2, ax=axes[2])\n",
    "    plt.quiver(X[::stride, ::stride], Y[::stride, ::stride], \n",
    "            (nx/mag)[::stride, ::stride], (ny/mag)[::stride, ::stride], \n",
    "            color='orange', \n",
    "            width=0.003,     # Increase width to make arrow shafts thicker\n",
    "            headlength=0,    \n",
    "            headaxislength=0 \n",
    "    ) \n",
    "\n",
    "    axes[0].set_title(title)\n",
    "    plt.tight_layout()\n",
    "    plt.savefig(f\"sim_data/{title}.png\", dpi=300)\n",
    "    plt.show()\n",
    "\n",
    "def run_sim(eta, beta1, beta2, chi0_active, chi1_active, rho_delta, T, source):\n",
    "    chi0 = chi0_active\n",
    "    chi1 = chi1_active\n",
    "\n",
    "    rho0 = lambda t: 1 + rho_delta*source\n",
    "    Qsq = lambda t: -1 + 2*source \n",
    "\n",
    "\n",
    "    sim = active_gel_fem.NematicActiveGel2D(\n",
    "                        width=1, height=1, maxh=0.03,\n",
    "                        gamma=eta, eta_1=eta, eta_2=0,\n",
    "                        k=1, D=1e-4,\n",
    "                        kappa = 1e-4,\n",
    "                        beta1 = beta1, beta2 = beta2,   \n",
    "                        chi0 = chi0,  chi1 = chi1,\n",
    "                        Qsq = Qsq, rho0 = rho0 \n",
    "                    )\n",
    "    \n",
    "    # for i in range(len(sim.density.vec.data)): \n",
    "    #     sim.density.vec.data[i] = np.random.normal(1, 0.05)\n",
    "    #     sim.nematic_xx.vec.data[i] = np.random.normal(0, 0.05)\n",
    "\n",
    "    sim.simulate(\n",
    "        tend=T,\n",
    "        tau=0.05,\n",
    "        save_interval=20 # save once a second \n",
    "    )\n",
    "\n",
    "    return sim "
   ]
  },
  {
   "cell_type": "code",
   "execution_count": null,
   "metadata": {},
   "outputs": [
    {
     "name": "stderr",
     "output_type": "stream",
     "text": [
      "  2%|▏         | 30/2000 [00:00<00:13, 149.76it/s]"
     ]
    },
    {
     "name": "stdout",
     "output_type": "stream",
     "text": [
      "craete bilinearformapplication\n"
     ]
    },
    {
     "name": "stderr",
     "output_type": "stream",
     "text": [
      "100%|██████████| 2000/2000 [00:13<00:00, 146.06it/s]\n",
      "  2%|▏         | 41/2000 [00:00<00:09, 200.40it/s]"
     ]
    },
    {
     "name": "stdout",
     "output_type": "stream",
     "text": [
      "craete bilinearformapplication\n"
     ]
    },
    {
     "name": "stderr",
     "output_type": "stream",
     "text": [
      "100%|██████████| 2000/2000 [00:12<00:00, 156.07it/s]\n",
      "  1%|▏         | 28/2000 [00:00<00:13, 141.07it/s]"
     ]
    },
    {
     "name": "stdout",
     "output_type": "stream",
     "text": [
      "craete bilinearformapplication\n"
     ]
    },
    {
     "name": "stderr",
     "output_type": "stream",
     "text": [
      "100%|██████████| 2000/2000 [00:17<00:00, 116.38it/s]\n",
      "  1%|          | 11/2000 [00:00<00:37, 53.73it/s]"
     ]
    },
    {
     "name": "stdout",
     "output_type": "stream",
     "text": [
      "craete bilinearformapplication\n"
     ]
    },
    {
     "name": "stderr",
     "output_type": "stream",
     "text": [
      "100%|██████████| 2000/2000 [00:15<00:00, 130.12it/s]\n",
      "  2%|▏         | 32/2000 [00:00<00:14, 131.31it/s]"
     ]
    },
    {
     "name": "stdout",
     "output_type": "stream",
     "text": [
      "craete bilinearformapplication\n"
     ]
    },
    {
     "name": "stderr",
     "output_type": "stream",
     "text": [
      "100%|██████████| 2000/2000 [00:19<00:00, 101.71it/s]\n",
      "  1%|          | 16/2000 [00:00<00:24, 79.89it/s]"
     ]
    },
    {
     "name": "stdout",
     "output_type": "stream",
     "text": [
      "craete bilinearformapplication\n"
     ]
    },
    {
     "name": "stderr",
     "output_type": "stream",
     "text": [
      "100%|██████████| 2000/2000 [00:14<00:00, 140.05it/s]\n",
      "  2%|▏         | 30/2000 [00:00<00:13, 144.60it/s]"
     ]
    },
    {
     "name": "stdout",
     "output_type": "stream",
     "text": [
      "craete bilinearformapplication\n"
     ]
    },
    {
     "name": "stderr",
     "output_type": "stream",
     "text": [
      "100%|██████████| 2000/2000 [00:13<00:00, 153.68it/s]\n",
      "  2%|▏         | 36/2000 [00:00<00:11, 172.76it/s]"
     ]
    },
    {
     "name": "stdout",
     "output_type": "stream",
     "text": [
      "craete bilinearformapplication\n"
     ]
    },
    {
     "name": "stderr",
     "output_type": "stream",
     "text": [
      "100%|██████████| 2000/2000 [00:21<00:00, 93.51it/s] \n",
      "  1%|          | 18/2000 [00:00<00:37, 53.17it/s]"
     ]
    },
    {
     "name": "stdout",
     "output_type": "stream",
     "text": [
      "craete bilinearformapplication\n"
     ]
    },
    {
     "name": "stderr",
     "output_type": "stream",
     "text": [
      "100%|██████████| 2000/2000 [00:14<00:00, 139.40it/s]\n",
      "  4%|▎         | 72/2000 [00:00<00:08, 235.98it/s]"
     ]
    },
    {
     "name": "stdout",
     "output_type": "stream",
     "text": [
      "craete bilinearformapplication\n"
     ]
    },
    {
     "name": "stderr",
     "output_type": "stream",
     "text": [
      "100%|██████████| 2000/2000 [00:10<00:00, 195.39it/s]\n",
      "  4%|▎         | 71/2000 [00:00<00:08, 222.95it/s]"
     ]
    },
    {
     "name": "stdout",
     "output_type": "stream",
     "text": [
      "craete bilinearformapplication\n"
     ]
    },
    {
     "name": "stderr",
     "output_type": "stream",
     "text": [
      "100%|██████████| 2000/2000 [00:08<00:00, 224.63it/s]\n",
      "  4%|▎         | 70/2000 [00:00<00:09, 195.56it/s]"
     ]
    },
    {
     "name": "stdout",
     "output_type": "stream",
     "text": [
      "craete bilinearformapplication\n"
     ]
    },
    {
     "name": "stderr",
     "output_type": "stream",
     "text": [
      "100%|██████████| 2000/2000 [00:08<00:00, 227.88it/s]\n",
      "  2%|▏         | 36/2000 [00:00<00:12, 162.27it/s]"
     ]
    },
    {
     "name": "stdout",
     "output_type": "stream",
     "text": [
      "craete bilinearformapplication\n"
     ]
    },
    {
     "name": "stderr",
     "output_type": "stream",
     "text": [
      "100%|██████████| 2000/2000 [00:09<00:00, 210.91it/s]\n",
      "  4%|▎         | 70/2000 [00:00<00:08, 227.68it/s]"
     ]
    },
    {
     "name": "stdout",
     "output_type": "stream",
     "text": [
      "craete bilinearformapplication\n"
     ]
    },
    {
     "name": "stderr",
     "output_type": "stream",
     "text": [
      "100%|██████████| 2000/2000 [00:09<00:00, 220.55it/s]\n",
      "  1%|          | 17/2000 [00:00<00:11, 165.29it/s]"
     ]
    },
    {
     "name": "stdout",
     "output_type": "stream",
     "text": [
      "craete bilinearformapplication\n"
     ]
    },
    {
     "name": "stderr",
     "output_type": "stream",
     "text": [
      "100%|██████████| 2000/2000 [00:11<00:00, 175.31it/s]\n",
      "  2%|▏         | 34/2000 [00:00<00:12, 156.01it/s]"
     ]
    },
    {
     "name": "stdout",
     "output_type": "stream",
     "text": [
      "craete bilinearformapplication\n"
     ]
    },
    {
     "name": "stderr",
     "output_type": "stream",
     "text": [
      "100%|██████████| 2000/2000 [00:09<00:00, 202.79it/s]\n",
      "  3%|▎         | 65/2000 [00:00<00:09, 214.71it/s]"
     ]
    },
    {
     "name": "stdout",
     "output_type": "stream",
     "text": [
      "craete bilinearformapplication\n"
     ]
    },
    {
     "name": "stderr",
     "output_type": "stream",
     "text": [
      "100%|██████████| 2000/2000 [00:09<00:00, 218.11it/s]\n",
      "  4%|▎         | 72/2000 [00:00<00:08, 234.84it/s]"
     ]
    },
    {
     "name": "stdout",
     "output_type": "stream",
     "text": [
      "craete bilinearformapplication\n"
     ]
    },
    {
     "name": "stderr",
     "output_type": "stream",
     "text": [
      "100%|██████████| 2000/2000 [00:09<00:00, 203.82it/s]\n",
      "  2%|▏         | 42/2000 [00:00<00:09, 204.36it/s]"
     ]
    },
    {
     "name": "stdout",
     "output_type": "stream",
     "text": [
      "craete bilinearformapplication\n"
     ]
    },
    {
     "name": "stderr",
     "output_type": "stream",
     "text": [
      "100%|██████████| 2000/2000 [00:11<00:00, 167.72it/s]\n",
      "  2%|▏         | 48/2000 [00:00<00:08, 229.34it/s]"
     ]
    },
    {
     "name": "stdout",
     "output_type": "stream",
     "text": [
      "craete bilinearformapplication\n"
     ]
    },
    {
     "name": "stderr",
     "output_type": "stream",
     "text": [
      "100%|██████████| 2000/2000 [00:10<00:00, 188.28it/s]\n",
      "  2%|▏         | 46/2000 [00:00<00:08, 225.96it/s]"
     ]
    },
    {
     "name": "stdout",
     "output_type": "stream",
     "text": [
      "craete bilinearformapplication\n"
     ]
    },
    {
     "name": "stderr",
     "output_type": "stream",
     "text": [
      "100%|██████████| 2000/2000 [00:20<00:00, 95.94it/s] \n",
      "  1%|          | 11/2000 [00:00<00:58, 33.99it/s]"
     ]
    },
    {
     "name": "stdout",
     "output_type": "stream",
     "text": [
      "craete bilinearformapplication\n"
     ]
    },
    {
     "name": "stderr",
     "output_type": "stream",
     "text": [
      "100%|██████████| 2000/2000 [00:12<00:00, 165.74it/s]\n",
      "  3%|▎         | 68/2000 [00:00<00:08, 221.48it/s]"
     ]
    },
    {
     "name": "stdout",
     "output_type": "stream",
     "text": [
      "craete bilinearformapplication\n"
     ]
    },
    {
     "name": "stderr",
     "output_type": "stream",
     "text": [
      "100%|██████████| 2000/2000 [00:20<00:00, 95.82it/s] \n",
      "  0%|          | 10/2000 [00:00<00:45, 43.35it/s]"
     ]
    },
    {
     "name": "stdout",
     "output_type": "stream",
     "text": [
      "craete bilinearformapplication\n"
     ]
    },
    {
     "name": "stderr",
     "output_type": "stream",
     "text": [
      "100%|██████████| 2000/2000 [00:10<00:00, 186.42it/s]\n",
      "  4%|▎         | 72/2000 [00:00<00:08, 238.16it/s]"
     ]
    },
    {
     "name": "stdout",
     "output_type": "stream",
     "text": [
      "craete bilinearformapplication\n"
     ]
    },
    {
     "name": "stderr",
     "output_type": "stream",
     "text": [
      "100%|██████████| 2000/2000 [00:10<00:00, 198.53it/s]\n",
      "  2%|▏         | 44/2000 [00:00<00:10, 189.14it/s]"
     ]
    },
    {
     "name": "stdout",
     "output_type": "stream",
     "text": [
      "craete bilinearformapplication\n"
     ]
    },
    {
     "name": "stderr",
     "output_type": "stream",
     "text": [
      "100%|██████████| 2000/2000 [00:09<00:00, 201.10it/s]\n",
      "  2%|▏         | 40/2000 [00:00<00:11, 177.20it/s]"
     ]
    },
    {
     "name": "stdout",
     "output_type": "stream",
     "text": [
      "craete bilinearformapplication\n"
     ]
    },
    {
     "name": "stderr",
     "output_type": "stream",
     "text": [
      "100%|██████████| 2000/2000 [00:22<00:00, 90.73it/s] \n",
      "  1%|          | 21/2000 [00:00<00:18, 106.33it/s]"
     ]
    },
    {
     "name": "stdout",
     "output_type": "stream",
     "text": [
      "craete bilinearformapplication\n"
     ]
    },
    {
     "name": "stderr",
     "output_type": "stream",
     "text": [
      "100%|██████████| 2000/2000 [00:14<00:00, 141.58it/s]\n",
      "  2%|▏         | 32/2000 [00:00<00:12, 160.77it/s]"
     ]
    },
    {
     "name": "stdout",
     "output_type": "stream",
     "text": [
      "craete bilinearformapplication\n"
     ]
    },
    {
     "name": "stderr",
     "output_type": "stream",
     "text": [
      "100%|██████████| 2000/2000 [00:21<00:00, 92.98it/s] \n",
      "  1%|          | 23/2000 [00:00<00:17, 114.36it/s]"
     ]
    },
    {
     "name": "stdout",
     "output_type": "stream",
     "text": [
      "craete bilinearformapplication\n"
     ]
    },
    {
     "name": "stderr",
     "output_type": "stream",
     "text": [
      "100%|██████████| 2000/2000 [00:10<00:00, 189.66it/s]\n",
      "  2%|▏         | 42/2000 [00:00<00:10, 186.57it/s]"
     ]
    },
    {
     "name": "stdout",
     "output_type": "stream",
     "text": [
      "craete bilinearformapplication\n"
     ]
    },
    {
     "name": "stderr",
     "output_type": "stream",
     "text": [
      "100%|██████████| 2000/2000 [00:11<00:00, 171.39it/s]\n",
      "  3%|▎         | 60/2000 [00:00<00:09, 199.14it/s]"
     ]
    },
    {
     "name": "stdout",
     "output_type": "stream",
     "text": [
      "craete bilinearformapplication\n"
     ]
    },
    {
     "name": "stderr",
     "output_type": "stream",
     "text": [
      "100%|██████████| 2000/2000 [00:10<00:00, 191.36it/s]\n",
      "  3%|▎         | 67/2000 [00:00<00:09, 213.83it/s]"
     ]
    },
    {
     "name": "stdout",
     "output_type": "stream",
     "text": [
      "craete bilinearformapplication\n"
     ]
    },
    {
     "name": "stderr",
     "output_type": "stream",
     "text": [
      "100%|██████████| 2000/2000 [00:10<00:00, 191.43it/s]\n",
      "  3%|▎         | 69/2000 [00:00<00:10, 186.77it/s]"
     ]
    },
    {
     "name": "stdout",
     "output_type": "stream",
     "text": [
      "craete bilinearformapplication\n"
     ]
    },
    {
     "name": "stderr",
     "output_type": "stream",
     "text": [
      "100%|██████████| 2000/2000 [00:18<00:00, 106.88it/s]\n",
      "  1%|          | 16/2000 [00:00<00:25, 77.09it/s]"
     ]
    },
    {
     "name": "stdout",
     "output_type": "stream",
     "text": [
      "craete bilinearformapplication\n"
     ]
    },
    {
     "name": "stderr",
     "output_type": "stream",
     "text": [
      "100%|██████████| 2000/2000 [00:14<00:00, 140.19it/s]\n",
      "  2%|▏         | 44/2000 [00:00<00:09, 214.50it/s]"
     ]
    },
    {
     "name": "stdout",
     "output_type": "stream",
     "text": [
      "craete bilinearformapplication\n"
     ]
    },
    {
     "name": "stderr",
     "output_type": "stream",
     "text": [
      "100%|██████████| 2000/2000 [00:10<00:00, 183.04it/s]\n",
      "  3%|▎         | 66/2000 [00:00<00:09, 205.96it/s]"
     ]
    },
    {
     "name": "stdout",
     "output_type": "stream",
     "text": [
      "craete bilinearformapplication\n"
     ]
    },
    {
     "name": "stderr",
     "output_type": "stream",
     "text": [
      "100%|██████████| 2000/2000 [00:12<00:00, 164.44it/s]\n",
      "  2%|▏         | 38/2000 [00:00<00:10, 191.03it/s]"
     ]
    },
    {
     "name": "stdout",
     "output_type": "stream",
     "text": [
      "craete bilinearformapplication\n"
     ]
    },
    {
     "name": "stderr",
     "output_type": "stream",
     "text": [
      "100%|██████████| 2000/2000 [00:10<00:00, 188.00it/s]\n",
      "  2%|▏         | 48/2000 [00:00<00:09, 195.25it/s]"
     ]
    },
    {
     "name": "stdout",
     "output_type": "stream",
     "text": [
      "craete bilinearformapplication\n"
     ]
    },
    {
     "name": "stderr",
     "output_type": "stream",
     "text": [
      "100%|██████████| 2000/2000 [00:10<00:00, 192.73it/s]\n",
      "  2%|▏         | 30/2000 [00:00<00:13, 146.96it/s]"
     ]
    },
    {
     "name": "stdout",
     "output_type": "stream",
     "text": [
      "craete bilinearformapplication\n"
     ]
    },
    {
     "name": "stderr",
     "output_type": "stream",
     "text": [
      "100%|██████████| 2000/2000 [00:11<00:00, 175.96it/s]\n",
      "  3%|▎         | 57/2000 [00:00<00:10, 193.78it/s]"
     ]
    },
    {
     "name": "stdout",
     "output_type": "stream",
     "text": [
      "craete bilinearformapplication\n"
     ]
    },
    {
     "name": "stderr",
     "output_type": "stream",
     "text": [
      "100%|██████████| 2000/2000 [00:09<00:00, 213.45it/s]\n",
      "  2%|▎         | 50/2000 [00:00<00:08, 228.66it/s]"
     ]
    },
    {
     "name": "stdout",
     "output_type": "stream",
     "text": [
      "craete bilinearformapplication\n"
     ]
    },
    {
     "name": "stderr",
     "output_type": "stream",
     "text": [
      "100%|██████████| 2000/2000 [00:10<00:00, 191.72it/s]\n",
      "  2%|▏         | 38/2000 [00:00<00:10, 188.86it/s]"
     ]
    },
    {
     "name": "stdout",
     "output_type": "stream",
     "text": [
      "craete bilinearformapplication\n"
     ]
    },
    {
     "name": "stderr",
     "output_type": "stream",
     "text": [
      "100%|██████████| 2000/2000 [00:09<00:00, 218.90it/s]\n",
      "  4%|▎         | 74/2000 [00:00<00:08, 229.60it/s]"
     ]
    },
    {
     "name": "stdout",
     "output_type": "stream",
     "text": [
      "craete bilinearformapplication\n"
     ]
    },
    {
     "name": "stderr",
     "output_type": "stream",
     "text": [
      "100%|██████████| 2000/2000 [00:09<00:00, 221.40it/s]\n",
      "  3%|▎         | 69/2000 [00:00<00:09, 194.67it/s]"
     ]
    },
    {
     "name": "stdout",
     "output_type": "stream",
     "text": [
      "craete bilinearformapplication\n"
     ]
    },
    {
     "name": "stderr",
     "output_type": "stream",
     "text": [
      "100%|██████████| 2000/2000 [00:09<00:00, 213.70it/s]\n",
      "  3%|▎         | 69/2000 [00:00<00:08, 218.14it/s]"
     ]
    },
    {
     "name": "stdout",
     "output_type": "stream",
     "text": [
      "craete bilinearformapplication\n"
     ]
    },
    {
     "name": "stderr",
     "output_type": "stream",
     "text": [
      "100%|██████████| 2000/2000 [00:09<00:00, 216.75it/s]\n",
      "  2%|▏         | 46/2000 [00:00<00:08, 220.63it/s]"
     ]
    },
    {
     "name": "stdout",
     "output_type": "stream",
     "text": [
      "craete bilinearformapplication\n"
     ]
    },
    {
     "name": "stderr",
     "output_type": "stream",
     "text": [
      "100%|██████████| 2000/2000 [00:09<00:00, 208.89it/s]\n",
      "  4%|▎         | 70/2000 [00:00<00:08, 224.01it/s]"
     ]
    },
    {
     "name": "stdout",
     "output_type": "stream",
     "text": [
      "craete bilinearformapplication\n"
     ]
    },
    {
     "name": "stderr",
     "output_type": "stream",
     "text": [
      "100%|██████████| 2000/2000 [00:09<00:00, 218.46it/s]\n",
      "  4%|▎         | 71/2000 [00:00<00:08, 227.71it/s]"
     ]
    },
    {
     "name": "stdout",
     "output_type": "stream",
     "text": [
      "craete bilinearformapplication\n"
     ]
    },
    {
     "name": "stderr",
     "output_type": "stream",
     "text": [
      "100%|██████████| 2000/2000 [00:08<00:00, 223.24it/s]\n",
      "  4%|▎         | 71/2000 [00:00<00:08, 227.90it/s]"
     ]
    },
    {
     "name": "stdout",
     "output_type": "stream",
     "text": [
      "craete bilinearformapplication\n"
     ]
    },
    {
     "name": "stderr",
     "output_type": "stream",
     "text": [
      "100%|██████████| 2000/2000 [00:08<00:00, 226.84it/s]\n",
      "  4%|▎         | 73/2000 [00:00<00:08, 231.64it/s]"
     ]
    },
    {
     "name": "stdout",
     "output_type": "stream",
     "text": [
      "craete bilinearformapplication\n"
     ]
    },
    {
     "name": "stderr",
     "output_type": "stream",
     "text": [
      "100%|██████████| 2000/2000 [00:09<00:00, 217.96it/s]\n",
      "  3%|▎         | 61/2000 [00:00<00:09, 197.96it/s]"
     ]
    },
    {
     "name": "stdout",
     "output_type": "stream",
     "text": [
      "craete bilinearformapplication\n"
     ]
    },
    {
     "name": "stderr",
     "output_type": "stream",
     "text": [
      "100%|██████████| 2000/2000 [00:10<00:00, 190.51it/s]\n",
      "  4%|▎         | 71/2000 [00:00<00:09, 210.77it/s]"
     ]
    },
    {
     "name": "stdout",
     "output_type": "stream",
     "text": [
      "craete bilinearformapplication\n"
     ]
    },
    {
     "name": "stderr",
     "output_type": "stream",
     "text": [
      "100%|██████████| 2000/2000 [00:12<00:00, 164.26it/s]\n",
      "  3%|▎         | 61/2000 [00:00<00:09, 199.64it/s]"
     ]
    },
    {
     "name": "stdout",
     "output_type": "stream",
     "text": [
      "craete bilinearformapplication\n"
     ]
    },
    {
     "name": "stderr",
     "output_type": "stream",
     "text": [
      "100%|██████████| 2000/2000 [00:10<00:00, 181.95it/s]\n",
      "  3%|▎         | 56/2000 [00:00<00:11, 170.71it/s]"
     ]
    },
    {
     "name": "stdout",
     "output_type": "stream",
     "text": [
      "craete bilinearformapplication\n"
     ]
    },
    {
     "name": "stderr",
     "output_type": "stream",
     "text": [
      "100%|██████████| 2000/2000 [00:20<00:00, 99.29it/s] \n",
      "  1%|          | 22/2000 [00:00<00:18, 104.52it/s]"
     ]
    },
    {
     "name": "stdout",
     "output_type": "stream",
     "text": [
      "craete bilinearformapplication\n"
     ]
    },
    {
     "name": "stderr",
     "output_type": "stream",
     "text": [
      "100%|██████████| 2000/2000 [00:13<00:00, 144.83it/s]\n",
      "  2%|▏         | 46/2000 [00:00<00:09, 202.35it/s]"
     ]
    },
    {
     "name": "stdout",
     "output_type": "stream",
     "text": [
      "craete bilinearformapplication\n"
     ]
    },
    {
     "name": "stderr",
     "output_type": "stream",
     "text": [
      "100%|██████████| 2000/2000 [00:09<00:00, 216.26it/s]\n",
      "  2%|▏         | 48/2000 [00:00<00:08, 226.27it/s]"
     ]
    },
    {
     "name": "stdout",
     "output_type": "stream",
     "text": [
      "craete bilinearformapplication\n"
     ]
    },
    {
     "name": "stderr",
     "output_type": "stream",
     "text": [
      "100%|██████████| 2000/2000 [00:10<00:00, 182.90it/s]\n",
      "  1%|▏         | 26/2000 [00:00<00:26, 73.40it/s]"
     ]
    },
    {
     "name": "stdout",
     "output_type": "stream",
     "text": [
      "craete bilinearformapplication\n"
     ]
    },
    {
     "name": "stderr",
     "output_type": "stream",
     "text": [
      "100%|██████████| 2000/2000 [00:26<00:00, 74.59it/s]\n",
      "  3%|▎         | 52/2000 [00:00<00:11, 166.03it/s]"
     ]
    },
    {
     "name": "stdout",
     "output_type": "stream",
     "text": [
      "craete bilinearformapplication\n"
     ]
    },
    {
     "name": "stderr",
     "output_type": "stream",
     "text": [
      "100%|██████████| 2000/2000 [00:09<00:00, 204.03it/s]\n",
      "  2%|▏         | 39/2000 [00:00<00:10, 191.43it/s]"
     ]
    },
    {
     "name": "stdout",
     "output_type": "stream",
     "text": [
      "craete bilinearformapplication\n"
     ]
    },
    {
     "name": "stderr",
     "output_type": "stream",
     "text": [
      "100%|██████████| 2000/2000 [00:10<00:00, 182.85it/s]\n",
      "  4%|▎         | 71/2000 [00:00<00:09, 213.67it/s]"
     ]
    },
    {
     "name": "stdout",
     "output_type": "stream",
     "text": [
      "craete bilinearformapplication\n"
     ]
    },
    {
     "name": "stderr",
     "output_type": "stream",
     "text": [
      "100%|██████████| 2000/2000 [00:11<00:00, 173.27it/s]\n",
      "  4%|▎         | 72/2000 [00:00<00:08, 234.30it/s]"
     ]
    },
    {
     "name": "stdout",
     "output_type": "stream",
     "text": [
      "craete bilinearformapplication\n"
     ]
    },
    {
     "name": "stderr",
     "output_type": "stream",
     "text": [
      "100%|██████████| 2000/2000 [00:10<00:00, 185.47it/s]\n",
      "  2%|▏         | 44/2000 [00:00<00:09, 216.40it/s]"
     ]
    },
    {
     "name": "stdout",
     "output_type": "stream",
     "text": [
      "craete bilinearformapplication\n"
     ]
    },
    {
     "name": "stderr",
     "output_type": "stream",
     "text": [
      "100%|██████████| 2000/2000 [00:10<00:00, 187.70it/s]\n",
      "  3%|▎         | 67/2000 [00:00<00:09, 206.12it/s]"
     ]
    },
    {
     "name": "stdout",
     "output_type": "stream",
     "text": [
      "craete bilinearformapplication\n"
     ]
    },
    {
     "name": "stderr",
     "output_type": "stream",
     "text": [
      "100%|██████████| 2000/2000 [00:10<00:00, 199.36it/s]\n",
      "  2%|▏         | 30/2000 [00:00<00:13, 145.29it/s]"
     ]
    },
    {
     "name": "stdout",
     "output_type": "stream",
     "text": [
      "craete bilinearformapplication\n"
     ]
    },
    {
     "name": "stderr",
     "output_type": "stream",
     "text": [
      "100%|██████████| 2000/2000 [00:23<00:00, 86.68it/s]\n",
      "  1%|          | 17/2000 [00:00<00:22, 86.57it/s]"
     ]
    },
    {
     "name": "stdout",
     "output_type": "stream",
     "text": [
      "craete bilinearformapplication\n"
     ]
    },
    {
     "name": "stderr",
     "output_type": "stream",
     "text": [
      "100%|██████████| 2000/2000 [00:12<00:00, 160.91it/s]\n",
      "  1%|          | 22/2000 [00:00<00:18, 107.14it/s]"
     ]
    },
    {
     "name": "stdout",
     "output_type": "stream",
     "text": [
      "craete bilinearformapplication\n"
     ]
    },
    {
     "name": "stderr",
     "output_type": "stream",
     "text": [
      "100%|██████████| 2000/2000 [00:10<00:00, 192.38it/s]\n",
      "  2%|▏         | 40/2000 [00:00<00:10, 194.88it/s]"
     ]
    },
    {
     "name": "stdout",
     "output_type": "stream",
     "text": [
      "craete bilinearformapplication\n"
     ]
    },
    {
     "name": "stderr",
     "output_type": "stream",
     "text": [
      "100%|██████████| 2000/2000 [00:14<00:00, 133.46it/s]\n",
      "  1%|          | 12/2000 [00:00<00:44, 44.85it/s]"
     ]
    },
    {
     "name": "stdout",
     "output_type": "stream",
     "text": [
      "craete bilinearformapplication\n"
     ]
    },
    {
     "name": "stderr",
     "output_type": "stream",
     "text": [
      "100%|██████████| 2000/2000 [00:22<00:00, 88.37it/s] \n",
      "  3%|▎         | 66/2000 [00:00<00:09, 193.45it/s]"
     ]
    },
    {
     "name": "stdout",
     "output_type": "stream",
     "text": [
      "craete bilinearformapplication\n"
     ]
    },
    {
     "name": "stderr",
     "output_type": "stream",
     "text": [
      "100%|██████████| 2000/2000 [00:11<00:00, 171.54it/s]\n",
      "  2%|▏         | 47/2000 [00:00<00:12, 160.59it/s]"
     ]
    },
    {
     "name": "stdout",
     "output_type": "stream",
     "text": [
      "craete bilinearformapplication\n"
     ]
    },
    {
     "name": "stderr",
     "output_type": "stream",
     "text": [
      "100%|██████████| 2000/2000 [00:10<00:00, 192.18it/s]\n",
      "  2%|▏         | 40/2000 [00:00<00:09, 196.81it/s]"
     ]
    },
    {
     "name": "stdout",
     "output_type": "stream",
     "text": [
      "craete bilinearformapplication\n"
     ]
    },
    {
     "name": "stderr",
     "output_type": "stream",
     "text": [
      "100%|██████████| 2000/2000 [00:12<00:00, 154.84it/s]\n",
      "  1%|          | 19/2000 [00:00<00:20, 96.90it/s]"
     ]
    },
    {
     "name": "stdout",
     "output_type": "stream",
     "text": [
      "craete bilinearformapplication\n"
     ]
    },
    {
     "name": "stderr",
     "output_type": "stream",
     "text": [
      "100%|██████████| 2000/2000 [00:19<00:00, 101.77it/s]\n",
      "  2%|▏         | 49/2000 [00:00<00:12, 161.11it/s]"
     ]
    },
    {
     "name": "stdout",
     "output_type": "stream",
     "text": [
      "craete bilinearformapplication\n"
     ]
    },
    {
     "name": "stderr",
     "output_type": "stream",
     "text": [
      "100%|██████████| 2000/2000 [00:09<00:00, 221.38it/s]\n",
      "  4%|▍         | 75/2000 [00:00<00:08, 236.28it/s]"
     ]
    },
    {
     "name": "stdout",
     "output_type": "stream",
     "text": [
      "craete bilinearformapplication\n"
     ]
    },
    {
     "name": "stderr",
     "output_type": "stream",
     "text": [
      "100%|██████████| 2000/2000 [00:08<00:00, 231.46it/s]\n",
      "  3%|▎         | 60/2000 [00:00<00:10, 177.22it/s]"
     ]
    },
    {
     "name": "stdout",
     "output_type": "stream",
     "text": [
      "craete bilinearformapplication\n"
     ]
    },
    {
     "name": "stderr",
     "output_type": "stream",
     "text": [
      "100%|██████████| 2000/2000 [00:08<00:00, 222.38it/s]\n",
      "  4%|▍         | 75/2000 [00:00<00:08, 216.23it/s]"
     ]
    },
    {
     "name": "stdout",
     "output_type": "stream",
     "text": [
      "craete bilinearformapplication\n"
     ]
    },
    {
     "name": "stderr",
     "output_type": "stream",
     "text": [
      "100%|██████████| 2000/2000 [00:08<00:00, 230.42it/s]\n",
      "  3%|▎         | 64/2000 [00:00<00:09, 212.80it/s]"
     ]
    },
    {
     "name": "stdout",
     "output_type": "stream",
     "text": [
      "craete bilinearformapplication\n"
     ]
    },
    {
     "name": "stderr",
     "output_type": "stream",
     "text": [
      "100%|██████████| 2000/2000 [00:09<00:00, 212.35it/s]\n",
      "  4%|▎         | 74/2000 [00:00<00:08, 220.81it/s]"
     ]
    },
    {
     "name": "stdout",
     "output_type": "stream",
     "text": [
      "craete bilinearformapplication\n"
     ]
    },
    {
     "name": "stderr",
     "output_type": "stream",
     "text": [
      "100%|██████████| 2000/2000 [00:08<00:00, 232.02it/s]\n",
      "  2%|▏         | 36/2000 [00:00<00:10, 187.93it/s]"
     ]
    },
    {
     "name": "stdout",
     "output_type": "stream",
     "text": [
      "craete bilinearformapplication\n"
     ]
    },
    {
     "name": "stderr",
     "output_type": "stream",
     "text": [
      "100%|██████████| 2000/2000 [00:08<00:00, 228.81it/s]\n",
      "  3%|▎         | 61/2000 [00:00<00:09, 205.76it/s]"
     ]
    },
    {
     "name": "stdout",
     "output_type": "stream",
     "text": [
      "craete bilinearformapplication\n"
     ]
    },
    {
     "name": "stderr",
     "output_type": "stream",
     "text": [
      "100%|██████████| 2000/2000 [00:08<00:00, 231.78it/s]\n",
      "  4%|▎         | 70/2000 [00:00<00:08, 216.04it/s]"
     ]
    },
    {
     "name": "stdout",
     "output_type": "stream",
     "text": [
      "craete bilinearformapplication\n"
     ]
    },
    {
     "name": "stderr",
     "output_type": "stream",
     "text": [
      "100%|██████████| 2000/2000 [00:08<00:00, 228.06it/s]\n",
      "  4%|▎         | 74/2000 [00:00<00:08, 229.91it/s]"
     ]
    },
    {
     "name": "stdout",
     "output_type": "stream",
     "text": [
      "craete bilinearformapplication\n"
     ]
    },
    {
     "name": "stderr",
     "output_type": "stream",
     "text": [
      "100%|██████████| 2000/2000 [00:08<00:00, 230.59it/s]\n",
      "  2%|▏         | 46/2000 [00:00<00:08, 231.20it/s]"
     ]
    },
    {
     "name": "stdout",
     "output_type": "stream",
     "text": [
      "craete bilinearformapplication\n"
     ]
    },
    {
     "name": "stderr",
     "output_type": "stream",
     "text": [
      "100%|██████████| 2000/2000 [00:08<00:00, 229.80it/s]\n",
      "  4%|▎         | 71/2000 [00:00<00:08, 225.20it/s]"
     ]
    },
    {
     "name": "stdout",
     "output_type": "stream",
     "text": [
      "craete bilinearformapplication\n"
     ]
    },
    {
     "name": "stderr",
     "output_type": "stream",
     "text": [
      "100%|██████████| 2000/2000 [00:08<00:00, 231.46it/s]\n",
      "  4%|▎         | 72/2000 [00:00<00:08, 224.53it/s]"
     ]
    },
    {
     "name": "stdout",
     "output_type": "stream",
     "text": [
      "craete bilinearformapplication\n"
     ]
    },
    {
     "name": "stderr",
     "output_type": "stream",
     "text": [
      "100%|██████████| 2000/2000 [00:08<00:00, 232.04it/s]\n",
      "  4%|▎         | 73/2000 [00:00<00:08, 223.10it/s]"
     ]
    },
    {
     "name": "stdout",
     "output_type": "stream",
     "text": [
      "craete bilinearformapplication\n"
     ]
    },
    {
     "name": "stderr",
     "output_type": "stream",
     "text": [
      "100%|██████████| 2000/2000 [00:08<00:00, 228.47it/s]\n",
      "  4%|▎         | 72/2000 [00:00<00:08, 221.15it/s]"
     ]
    },
    {
     "name": "stdout",
     "output_type": "stream",
     "text": [
      "craete bilinearformapplication\n"
     ]
    },
    {
     "name": "stderr",
     "output_type": "stream",
     "text": [
      "100%|██████████| 2000/2000 [00:08<00:00, 229.26it/s]\n",
      "  4%|▎         | 74/2000 [00:00<00:08, 228.75it/s]"
     ]
    },
    {
     "name": "stdout",
     "output_type": "stream",
     "text": [
      "craete bilinearformapplication\n"
     ]
    },
    {
     "name": "stderr",
     "output_type": "stream",
     "text": [
      "100%|██████████| 2000/2000 [00:08<00:00, 228.82it/s]\n",
      "  4%|▎         | 72/2000 [00:00<00:08, 224.88it/s]"
     ]
    },
    {
     "name": "stdout",
     "output_type": "stream",
     "text": [
      "craete bilinearformapplication\n"
     ]
    },
    {
     "name": "stderr",
     "output_type": "stream",
     "text": [
      "100%|██████████| 2000/2000 [00:08<00:00, 230.79it/s]\n",
      "  3%|▎         | 68/2000 [00:00<00:08, 219.25it/s]"
     ]
    },
    {
     "name": "stdout",
     "output_type": "stream",
     "text": [
      "craete bilinearformapplication\n"
     ]
    },
    {
     "name": "stderr",
     "output_type": "stream",
     "text": [
      "100%|██████████| 2000/2000 [00:08<00:00, 230.59it/s]\n",
      "  2%|▏         | 44/2000 [00:00<00:11, 177.16it/s]"
     ]
    },
    {
     "name": "stdout",
     "output_type": "stream",
     "text": [
      "craete bilinearformapplication\n"
     ]
    },
    {
     "name": "stderr",
     "output_type": "stream",
     "text": [
      "100%|██████████| 2000/2000 [00:08<00:00, 229.22it/s]\n",
      "  2%|▎         | 50/2000 [00:00<00:09, 214.65it/s]"
     ]
    },
    {
     "name": "stdout",
     "output_type": "stream",
     "text": [
      "craete bilinearformapplication\n"
     ]
    },
    {
     "name": "stderr",
     "output_type": "stream",
     "text": [
      "100%|██████████| 2000/2000 [00:08<00:00, 233.15it/s]\n",
      "  2%|▎         | 50/2000 [00:00<00:08, 229.27it/s]"
     ]
    },
    {
     "name": "stdout",
     "output_type": "stream",
     "text": [
      "craete bilinearformapplication\n"
     ]
    },
    {
     "name": "stderr",
     "output_type": "stream",
     "text": [
      "100%|██████████| 2000/2000 [00:08<00:00, 227.01it/s]\n",
      "  3%|▎         | 69/2000 [00:00<00:08, 216.39it/s]"
     ]
    },
    {
     "name": "stdout",
     "output_type": "stream",
     "text": [
      "craete bilinearformapplication\n"
     ]
    },
    {
     "name": "stderr",
     "output_type": "stream",
     "text": [
      "100%|██████████| 2000/2000 [00:08<00:00, 228.56it/s]\n",
      "  4%|▎         | 71/2000 [00:00<00:08, 216.44it/s]"
     ]
    },
    {
     "name": "stdout",
     "output_type": "stream",
     "text": [
      "craete bilinearformapplication\n"
     ]
    },
    {
     "name": "stderr",
     "output_type": "stream",
     "text": [
      "100%|██████████| 2000/2000 [00:08<00:00, 229.82it/s]\n",
      "  3%|▎         | 60/2000 [00:00<00:09, 206.81it/s]"
     ]
    },
    {
     "name": "stdout",
     "output_type": "stream",
     "text": [
      "craete bilinearformapplication\n"
     ]
    },
    {
     "name": "stderr",
     "output_type": "stream",
     "text": [
      "100%|██████████| 2000/2000 [00:08<00:00, 227.91it/s]\n",
      "  2%|▎         | 50/2000 [00:00<00:09, 213.85it/s]"
     ]
    },
    {
     "name": "stdout",
     "output_type": "stream",
     "text": [
      "craete bilinearformapplication\n"
     ]
    },
    {
     "name": "stderr",
     "output_type": "stream",
     "text": [
      "100%|██████████| 2000/2000 [00:08<00:00, 231.36it/s]\n",
      "  2%|▎         | 50/2000 [00:00<00:09, 204.80it/s]"
     ]
    },
    {
     "name": "stdout",
     "output_type": "stream",
     "text": [
      "craete bilinearformapplication\n"
     ]
    },
    {
     "name": "stderr",
     "output_type": "stream",
     "text": [
      "100%|██████████| 2000/2000 [00:08<00:00, 232.65it/s]\n",
      "  4%|▎         | 71/2000 [00:00<00:08, 221.52it/s]"
     ]
    },
    {
     "name": "stdout",
     "output_type": "stream",
     "text": [
      "craete bilinearformapplication\n"
     ]
    },
    {
     "name": "stderr",
     "output_type": "stream",
     "text": [
      "100%|██████████| 2000/2000 [00:08<00:00, 230.65it/s]\n",
      "  2%|▏         | 48/2000 [00:00<00:08, 218.67it/s]"
     ]
    },
    {
     "name": "stdout",
     "output_type": "stream",
     "text": [
      "craete bilinearformapplication\n"
     ]
    },
    {
     "name": "stderr",
     "output_type": "stream",
     "text": [
      "100%|██████████| 2000/2000 [00:08<00:00, 232.29it/s]\n",
      "  3%|▎         | 67/2000 [00:00<00:08, 224.02it/s]"
     ]
    },
    {
     "name": "stdout",
     "output_type": "stream",
     "text": [
      "craete bilinearformapplication\n"
     ]
    },
    {
     "name": "stderr",
     "output_type": "stream",
     "text": [
      "100%|██████████| 2000/2000 [00:08<00:00, 230.72it/s]\n",
      "  4%|▎         | 71/2000 [00:00<00:08, 227.03it/s]"
     ]
    },
    {
     "name": "stdout",
     "output_type": "stream",
     "text": [
      "craete bilinearformapplication\n"
     ]
    },
    {
     "name": "stderr",
     "output_type": "stream",
     "text": [
      "100%|██████████| 2000/2000 [00:08<00:00, 231.47it/s]\n",
      "  3%|▎         | 61/2000 [00:00<00:10, 191.32it/s]"
     ]
    },
    {
     "name": "stdout",
     "output_type": "stream",
     "text": [
      "craete bilinearformapplication\n"
     ]
    },
    {
     "name": "stderr",
     "output_type": "stream",
     "text": [
      "100%|██████████| 2000/2000 [00:08<00:00, 229.60it/s]\n",
      "  2%|▏         | 48/2000 [00:00<00:09, 204.24it/s]"
     ]
    },
    {
     "name": "stdout",
     "output_type": "stream",
     "text": [
      "craete bilinearformapplication\n"
     ]
    },
    {
     "name": "stderr",
     "output_type": "stream",
     "text": [
      "100%|██████████| 2000/2000 [00:08<00:00, 231.61it/s]\n",
      "  3%|▎         | 61/2000 [00:00<00:10, 179.68it/s]"
     ]
    },
    {
     "name": "stdout",
     "output_type": "stream",
     "text": [
      "craete bilinearformapplication\n"
     ]
    },
    {
     "name": "stderr",
     "output_type": "stream",
     "text": [
      "100%|██████████| 2000/2000 [00:09<00:00, 218.13it/s]\n",
      "  4%|▎         | 72/2000 [00:00<00:08, 222.14it/s]"
     ]
    },
    {
     "name": "stdout",
     "output_type": "stream",
     "text": [
      "craete bilinearformapplication\n"
     ]
    },
    {
     "name": "stderr",
     "output_type": "stream",
     "text": [
      "100%|██████████| 2000/2000 [00:08<00:00, 229.20it/s]\n",
      "  4%|▎         | 74/2000 [00:00<00:08, 225.36it/s]"
     ]
    },
    {
     "name": "stdout",
     "output_type": "stream",
     "text": [
      "craete bilinearformapplication\n"
     ]
    },
    {
     "name": "stderr",
     "output_type": "stream",
     "text": [
      "100%|██████████| 2000/2000 [00:08<00:00, 232.68it/s]\n",
      "  3%|▎         | 69/2000 [00:00<00:09, 212.22it/s]"
     ]
    },
    {
     "name": "stdout",
     "output_type": "stream",
     "text": [
      "craete bilinearformapplication\n"
     ]
    },
    {
     "name": "stderr",
     "output_type": "stream",
     "text": [
      "100%|██████████| 2000/2000 [00:08<00:00, 223.48it/s]\n",
      "  2%|▎         | 50/2000 [00:00<00:09, 216.10it/s]"
     ]
    },
    {
     "name": "stdout",
     "output_type": "stream",
     "text": [
      "craete bilinearformapplication\n"
     ]
    },
    {
     "name": "stderr",
     "output_type": "stream",
     "text": [
      "100%|██████████| 2000/2000 [00:08<00:00, 231.60it/s]\n",
      "  3%|▎         | 57/2000 [00:00<00:11, 174.38it/s]"
     ]
    },
    {
     "name": "stdout",
     "output_type": "stream",
     "text": [
      "craete bilinearformapplication\n"
     ]
    },
    {
     "name": "stderr",
     "output_type": "stream",
     "text": [
      "100%|██████████| 2000/2000 [00:09<00:00, 213.65it/s]\n"
     ]
    }
   ],
   "source": [
    "# Create simulation instance\n",
    "T = 100\n",
    "tau = 0.05\n",
    "chi0 = 0.01\n",
    "chi1 = 0.1\n",
    "beta_prod = 1\n",
    "beta2 = 5\n",
    "beta1 = beta_prod/beta2\n",
    "eta = 1 \n",
    "\n",
    "\n",
    "tanh = lambda arg: (exp(arg) - exp(-arg))/(exp(arg)+exp(-arg)) \n",
    "left_edge = 0.5 - 0.06\n",
    "right_edge = 0.5 + 0.06\n",
    "left_transition = 0.5 * (tanh((x - left_edge)/0.01))\n",
    "right_transition = 0.5 * (tanh((right_edge - x)/0.01))\n",
    "\n",
    "bottom_transition = 0.5 * (tanh((y - 0.1)/0.1))\n",
    "top_transition = 0.5 * (tanh((0.9 - y)/0.1))\n",
    "source =1*(left_transition + right_transition) *(top_transition + bottom_transition)\n",
    "\n",
    "eta = 1 \n",
    "for chi0_active in [0.01, 0.03, 0.05]:\n",
    "    for chi1_active in [0.01, 0.03, 0.05, 0.1, 0.2]:\n",
    "        if chi1_active > chi0_active: \n",
    "            for beta2 in [0.5, 1, 3, 10]:\n",
    "                for rho_delta in [0.05, 0.08, 0.1]:\n",
    "                    beta1 = 1/beta2\n",
    "                    sim = run_sim(eta, beta1, beta2, chi0_active, chi1_active, rho_delta, 100, source)\n",
    "                    filename = 'sim_data/contractile_everywhere/beta1_{:.2f}_beta2_{:.2f}_chi0_{}_chi1_{}_rhod_{}.npy'.format(beta1, beta2, chi0_active, chi1_active, rho_delta)\n",
    "\n",
    "                    n_samples = 40 \n",
    "                    _ = sim.export_to_npy(filename, n_samples=n_samples)"
   ]
  },
  {
   "cell_type": "code",
   "execution_count": 1,
   "metadata": {},
   "outputs": [
    {
     "ename": "NameError",
     "evalue": "name 'os' is not defined",
     "output_type": "error",
     "traceback": [
      "\u001b[0;31m---------------------------------------------------------------------------\u001b[0m",
      "\u001b[0;31mNameError\u001b[0m                                 Traceback (most recent call last)",
      "Cell \u001b[0;32mIn[1], line 9\u001b[0m\n\u001b[1;32m      7\u001b[0m beta1 \u001b[38;5;241m=\u001b[39m \u001b[38;5;241m1\u001b[39m\u001b[38;5;241m/\u001b[39mbeta2\n\u001b[1;32m      8\u001b[0m filename \u001b[38;5;241m=\u001b[39m \u001b[38;5;124m'\u001b[39m\u001b[38;5;124msim_data/contractile_everywhere/beta1_\u001b[39m\u001b[38;5;132;01m{:.2f}\u001b[39;00m\u001b[38;5;124m_beta2_\u001b[39m\u001b[38;5;132;01m{:.2f}\u001b[39;00m\u001b[38;5;124m_chi0_\u001b[39m\u001b[38;5;132;01m{}\u001b[39;00m\u001b[38;5;124m_chi1_\u001b[39m\u001b[38;5;132;01m{}\u001b[39;00m\u001b[38;5;124m_rhod_\u001b[39m\u001b[38;5;132;01m{}\u001b[39;00m\u001b[38;5;124m.npy\u001b[39m\u001b[38;5;124m'\u001b[39m\u001b[38;5;241m.\u001b[39mformat(beta1, beta2, chi0_active, chi1_active, rho_delta)\n\u001b[0;32m----> 9\u001b[0m \u001b[38;5;28;01mif\u001b[39;00m \u001b[43mos\u001b[49m\u001b[38;5;241m.\u001b[39mpath\u001b[38;5;241m.\u001b[39misfile(filename):\n\u001b[1;32m     10\u001b[0m     data \u001b[38;5;241m=\u001b[39m np\u001b[38;5;241m.\u001b[39mload(filename)\n\u001b[1;32m     11\u001b[0m     \u001b[38;5;28;01mif\u001b[39;00m np\u001b[38;5;241m.\u001b[39mall(np\u001b[38;5;241m.\u001b[39misfinite(data)):\n",
      "\u001b[0;31mNameError\u001b[0m: name 'os' is not defined"
     ]
    }
   ],
   "source": [
    "eta = 1 \n",
    "for chi0_active in [0.005, 0.01, 0.03, 0.05]:\n",
    "    for chi1_active in [0.005, 0.01, 0.03, 0.05, 0.1, 0.2]:\n",
    "        if chi1_active > chi0_active: \n",
    "            for beta2 in [0.5, 1, 3, 10]:\n",
    "                for rho_delta in [0.05, 0.1]:\n",
    "                    beta1 = 1/beta2\n",
    "                    filename = 'sim_data/contractile_everywhere/beta1_{:.2f}_beta2_{:.2f}_chi0_{}_chi1_{}_rhod_{}.npy'.format(beta1, beta2, chi0_active, chi1_active, rho_delta)\n",
    "                    if os.path.isfile(filename):\n",
    "                        data = np.load(filename)\n",
    "                        if np.all(np.isfinite(data)):\n",
    "                            rho, vx, vy, Q, q = np.rollaxis(data[-1], -1)\n",
    "                            nx, ny = utils.nematic_to_vector(Q, q)\n",
    "\n",
    "                            plot_frame(\n",
    "                                n_samples=40, \n",
    "                                rho=rho, \n",
    "                                vx=vx, vy=vy, \n",
    "                                nx=nx, ny=ny,\n",
    "                                title='contractile_everywhere/beta1_{:.2f}_beta2_{:.2f}_chi0_{}_chi1_{}_rhod_{}'.format(beta1, beta2, chi0_active, chi1_active, rho_delta),\n",
    "                                stride=3,\n",
    "                            )\n",
    "\n",
    "                        \n",
    "                        \n"
   ]
  },
  {
   "cell_type": "code",
   "execution_count": 16,
   "metadata": {},
   "outputs": [
    {
     "data": {
      "application/vnd.jupyter.widget-view+json": {
       "model_id": "af5e55329b4e4e508b3dd326b9e6aab8",
       "version_major": 2,
       "version_minor": 0
      },
      "text/plain": [
       "WebGuiWidget(layout=Layout(height='500px', width='100%'), value={'gui_settings': {}, 'ngsolve_version': '6.2.2…"
      ]
     },
     "metadata": {},
     "output_type": "display_data"
    },
    {
     "data": {
      "application/vnd.jupyter.widget-view+json": {
       "model_id": "60a21301cd914e7e8f4368d30a119b3d",
       "version_major": 2,
       "version_minor": 0
      },
      "text/plain": [
       "WebGuiWidget(layout=Layout(height='500px', width='100%'), value={'gui_settings': {}, 'ngsolve_version': '6.2.2…"
      ]
     },
     "metadata": {},
     "output_type": "display_data"
    },
    {
     "data": {
      "application/vnd.jupyter.widget-view+json": {
       "model_id": "6b6ae4180f464d72ba4c7c930fadcb4a",
       "version_major": 2,
       "version_minor": 0
      },
      "text/plain": [
       "WebGuiWidget(layout=Layout(height='500px', width='100%'), value={'gui_settings': {}, 'ngsolve_version': '6.2.2…"
      ]
     },
     "metadata": {},
     "output_type": "display_data"
    },
    {
     "data": {
      "application/vnd.jupyter.widget-view+json": {
       "model_id": "1df701a34850414c958b4cbc398cc226",
       "version_major": 2,
       "version_minor": 0
      },
      "text/plain": [
       "WebGuiWidget(layout=Layout(height='500px', width='100%'), value={'gui_settings': {}, 'ngsolve_version': '6.2.2…"
      ]
     },
     "metadata": {},
     "output_type": "display_data"
    }
   ],
   "source": [
    "sim.visualize(animate=False)"
   ]
  },
  {
   "cell_type": "code",
   "execution_count": null,
   "metadata": {},
   "outputs": [],
   "source": []
  }
 ],
 "metadata": {
  "kernelspec": {
   "display_name": "ngsolve",
   "language": "python",
   "name": "python3"
  },
  "language_info": {
   "codemirror_mode": {
    "name": "ipython",
    "version": 3
   },
   "file_extension": ".py",
   "mimetype": "text/x-python",
   "name": "python",
   "nbconvert_exporter": "python",
   "pygments_lexer": "ipython3",
   "version": "3.13.1"
  }
 },
 "nbformat": 4,
 "nbformat_minor": 2
}
